{
 "cells": [
  {
   "cell_type": "code",
   "execution_count": 14,
   "metadata": {},
   "outputs": [
    {
     "name": "stdout",
     "output_type": "stream",
     "text": [
      "The 2020 Toyota Camry's engine has started.\n"
     ]
    }
   ],
   "source": [
    "# Create a Car class:\n",
    "# Define attributes like make, model, and year.\n",
    "# Create a method start_engine() that prints a message indicating the car engine is started.\n",
    "\n",
    "class Car:\n",
    "    def __init__(self, make, model, year):\n",
    "        self.make = make\n",
    "        self.model=model\n",
    "        self.year= year\n",
    "    def StartEngine(self):\n",
    "        print(f\"The {self.year} {self.make} {self.model}'s engine has started.\")\n",
    "my_car = Car(\"Toyota\", \"Camry\", 2020)\n",
    "my_car.StartEngine()\n",
    "    "
   ]
  },
  {
   "cell_type": "code",
   "execution_count": null,
   "metadata": {},
   "outputs": [],
   "source": []
  }
 ],
 "metadata": {
  "kernelspec": {
   "display_name": "Python 3",
   "language": "python",
   "name": "python3"
  },
  "language_info": {
   "codemirror_mode": {
    "name": "ipython",
    "version": 3
   },
   "file_extension": ".py",
   "mimetype": "text/x-python",
   "name": "python",
   "nbconvert_exporter": "python",
   "pygments_lexer": "ipython3",
   "version": "3.12.0"
  }
 },
 "nbformat": 4,
 "nbformat_minor": 2
}
